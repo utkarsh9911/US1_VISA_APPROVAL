{
 "cells": [],
 "metadata": {
  "kernelspec": {
   "display_name": "uss_visa",
   "language": "python",
   "name": "python3"
  },
  "language_info": {
   "name": "python",
   "version": "3.8.19"
  }
 },
 "nbformat": 4,
 "nbformat_minor": 2
}
